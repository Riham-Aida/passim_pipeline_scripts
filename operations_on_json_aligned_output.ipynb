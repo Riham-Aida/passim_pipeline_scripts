{
 "cells": [
  {
   "cell_type": "markdown",
   "id": "514e12ef",
   "metadata": {},
   "source": [
    "### JSON Field Extraction and Output Generation"
   ]
  },
  {
   "cell_type": "code",
   "execution_count": null,
   "id": "cc9a36bc",
   "metadata": {},
   "outputs": [],
   "source": [
    "import json  # Importing the necessary library for handling JSON data.\n",
    "\n",
    "def extract_alg(input_file, output_file):\n",
    "    output_data = {\n",
    "        'id': 'cb1',  # ID for the output data\n",
    "        'series': 'aligned-t',  # Series for the output data\n",
    "        'text': ''  # Initialize the text field as empty\n",
    "    }\n",
    "\n",
    "    with open(input_file, 'r', encoding='utf-8') as file:\n",
    "        for line in file:\n",
    "            data = json.loads(line)\n",
    "            alg2_text = data.get('alg', '')  # Get the value of 'alg2' field, or an empty string if it doesn't exist\n",
    "            output_data['text'] += alg_text  # Append the 'alg2' field value to the output data\n",
    "\n",
    "    with open(output_file, 'w', encoding='utf-8') as file:\n",
    "        file.write(json.dumps(output_data, ensure_ascii=False))  # Write the output data to the output file in JSON format\n",
    "\n",
    "input_file = \"path/input.json\"  # Path to the input JSONLines file\n",
    "output_file = \"path/output.json\"  # Path to the output JSON file\n",
    "\n",
    "extract_alg(input_file, output_file)  # Call the extract_alg2 function with the specified file paths to perform the extraction\n"
   ]
  },
  {
   "cell_type": "markdown",
   "id": "07958124",
   "metadata": {},
   "source": [
    "### Character Removal from JSON Text Field"
   ]
  },
  {
   "cell_type": "code",
   "execution_count": null,
   "id": "13d990ac",
   "metadata": {},
   "outputs": [],
   "source": [
    "import json  # Importing the necessary library for handling JSON data.\n",
    "\n",
    "def remove_characters(input_file, output_file):\n",
    "    with open(input_file, 'r', encoding='utf-8') as file:\n",
    "        data = json.load(file)  # Loading the content of the input JSON file as JSON data.\n",
    "\n",
    "    text = data.get('text', '')  # Getting the value of the 'text' field from the `data` dictionary.\n",
    "    modified_text = text.replace('\\u002D', '')  # Removing characters with the Unicode code `\\u002D` from the `text` string.\n",
    "\n",
    "    data['text'] = modified_text  # Updating the 'text' field in the `data` dictionary with the modified text.\n",
    "\n",
    "    with open(output_file, 'w', encoding='utf-8') as file:\n",
    "        json.dump(data, file, ensure_ascii=False)  # Writing the modified `data` dictionary to the output JSON file.\n",
    "\n",
    "input_file = \"D:/CESR/stage/good_export/final/alg-3.json\"  # Specifying the input JSON file path.\n",
    "output_file = \"D:/CESR/stage/good_export/final/alg-3-cleared.json\"  # Specifying the output JSON file path.\n",
    "\n",
    "remove_characters(input_file, output_file)  # Calling the `remove_characters` function with the provided file paths to perform the character removal process.\n"
   ]
  }
 ],
 "metadata": {
  "kernelspec": {
   "display_name": "Python 3",
   "language": "python",
   "name": "python3"
  },
  "language_info": {
   "codemirror_mode": {
    "name": "ipython",
    "version": 3
   },
   "file_extension": ".py",
   "mimetype": "text/x-python",
   "name": "python",
   "nbconvert_exporter": "python",
   "pygments_lexer": "ipython3",
   "version": "3.8.8"
  }
 },
 "nbformat": 4,
 "nbformat_minor": 5
}
