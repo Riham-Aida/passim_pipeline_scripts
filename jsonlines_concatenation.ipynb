{
 "cells": [
  {
   "cell_type": "markdown",
   "id": "09a72be3",
   "metadata": {},
   "source": [
    "### Importing requiered library"
   ]
  },
  {
   "cell_type": "code",
   "execution_count": null,
   "id": "d9b7b745",
   "metadata": {},
   "outputs": [],
   "source": [
    "import json"
   ]
  },
  {
   "cell_type": "markdown",
   "id": "51a14e0b",
   "metadata": {},
   "source": [
    "### Function for concatenating lines in JSONLines files"
   ]
  },
  {
   "cell_type": "code",
   "execution_count": null,
   "id": "7f78552c",
   "metadata": {},
   "outputs": [],
   "source": [
    "def concatenate_lines(input_file, output_file):\n",
    "    concatenated_text = ''    # Variable to store the concatenated text\n",
    "    series = ''               # Variable to store the series value\n",
    "    start_char = None        # Variable to store the start character position of the concatenated line\n",
    "    end_char = None          # Variable to store the end character position of the concatenated line\n",
    "    lines_dict = {}          # Dictionary to store information about each line\n",
    "    other_lines = []         # List to store lines other than the concatenated line\n",
    "    char_count = 0           # Variable to keep track of the character count\n",
    "    \n",
    "    # Read the input file line by line\n",
    "    with open(input_file, 'r', encoding='utf-8') as file:\n",
    "        for line in file:\n",
    "            line_data = json.loads(line)   # Parse the line as JSON\n",
    "            line_id = line_data['id']\n",
    "            line_series = line_data['series']\n",
    "            line_text = line_data['text']\n",
    "            \n",
    "            if line_id.startswith('eSc'):   # Line with ID starting with 'eSc' is part of the concatenated line\n",
    "                if start_char is None:      # If start_char is not yet assigned, set it to the current char_count\n",
    "                    start_char = char_count\n",
    "                concatenated_text += line_text # Append the line text to the concatenated_text\n",
    "                char_count += len(line_text)   # Update the character count\n",
    "                end_char = char_count          # Update the end_char to the current char_count\n",
    "            else:\n",
    "                other_lines.append(line_data)  # Line is not part of the concatenated line, so add it to other_lines\n",
    "                if series == '':               # If series is empty, update it to the current line_series\n",
    "                    series = line_series      \n",
    "                    \n",
    "            # Store line information in the dictionary\n",
    "            lines_dict[line_id] = {\n",
    "                'id': line_id,\n",
    "                'series': line_series,\n",
    "                'text': line_text,\n",
    "                'start_char': char_count - len(line_text),   # Calculate the start_char based on the current char_count\n",
    "                'end_char': char_count - 1\n",
    "            }\n",
    "    \n",
    "    concatenated_line = {\n",
    "        'id': 'c1',\n",
    "        'series': 'concat',  # Set series to 'concat'\n",
    "        'text': concatenated_text,\n",
    "        'start_char': start_char,\n",
    "        'end_char': end_char - 1\n",
    "    }\n",
    "    \n",
    "    # Write the concatenated line and other lines to the output file\n",
    "    with open(output_file, 'w', encoding='utf-8') as file:\n",
    "        file.write(json.dumps(concatenated_line, ensure_ascii=False) + '\\n')\n",
    "        for line in other_lines:\n",
    "            file.write(json.dumps(line, ensure_ascii=False) + '\\n') # Write each line in split_lines_list as JSON\n",
    "    \n",
    "    return lines_dict\n"
   ]
  },
  {
   "cell_type": "markdown",
   "id": "1e4710fd",
   "metadata": {},
   "source": [
    "### File paths specification and execution of the line concatenation process"
   ]
  },
  {
   "cell_type": "code",
   "execution_count": null,
   "id": "07812755",
   "metadata": {},
   "outputs": [],
   "source": [
    "input_file = \"path/input.json\"\n",
    "output_file = \"path/output.json\"\n",
    "\n",
    "# Step 1: Concatenate lines with ID starting with 'eSc' into one line with ID 'c1'\n",
    "lines_dict = concatenate_lines(input_file, output_file)\n"
   ]
  }
 ],
 "metadata": {
  "kernelspec": {
   "display_name": "Python 3",
   "language": "python",
   "name": "python3"
  },
  "language_info": {
   "codemirror_mode": {
    "name": "ipython",
    "version": 3
   },
   "file_extension": ".py",
   "mimetype": "text/x-python",
   "name": "python",
   "nbconvert_exporter": "python",
   "pygments_lexer": "ipython3",
   "version": "3.8.8"
  }
 },
 "nbformat": 4,
 "nbformat_minor": 5
}
