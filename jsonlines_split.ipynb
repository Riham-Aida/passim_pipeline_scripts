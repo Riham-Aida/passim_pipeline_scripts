{
 "cells": [
  {
   "cell_type": "markdown",
   "id": "52b84a39",
   "metadata": {},
   "source": [
    "### Importing requiered library"
   ]
  },
  {
   "cell_type": "code",
   "execution_count": null,
   "id": "933e93b9",
   "metadata": {},
   "outputs": [],
   "source": [
    "import json"
   ]
  },
  {
   "cell_type": "markdown",
   "id": "ca553f66",
   "metadata": {},
   "source": [
    "### Function for splitting lines in JSONLines file"
   ]
  },
  {
   "cell_type": "code",
   "execution_count": null,
   "id": "ceee62b5",
   "metadata": {},
   "outputs": [],
   "source": [
    "def split_lines(input_file, output_file, lines_dict):\n",
    "    split_lines_list = []  # List to store the split lines\n",
    "    \n",
    "    with open(input_file, 'r', encoding='utf-8') as file:\n",
    "        for line in file:\n",
    "            line_data = json.loads(line)\n",
    "            line_id = line_data['id']\n",
    "            line_series = line_data['series']\n",
    "            \n",
    "            if line_id == 'c1':  # Check if the line is the concatenated line\n",
    "                split_lines_list.append(line_data)  # Append the concatenated line as is\n",
    "                concatenated_text = line_data['text']\n",
    "                start_char = line_data['start_char']\n",
    "                \n",
    "                for line_id, line_info in lines_dict.items():\n",
    "                    if line_id.startswith('eSc'):  # Check if the line needs to be split\n",
    "                        split_text = concatenated_text[line_info['start_char']: line_info['end_char'] + 1]\n",
    "                        split_lines_list.append({  # Append the split line\n",
    "                            'id': line_id,\n",
    "                            'series': line_info['series'],\n",
    "                            'text': split_text,\n",
    "                            'start_char': line_info['start_char'] - start_char,\n",
    "                            'end_char': line_info['end_char'] - start_char\n",
    "                        })\n",
    "            else:\n",
    "                split_lines_list.append(line_data)  # Append the line as is if it doesn't need splitting\n"
   ]
  },
  {
   "cell_type": "markdown",
   "id": "06cc3ac1",
   "metadata": {},
   "source": [
    "### File paths specification and execution of the splitting process"
   ]
  },
  {
   "cell_type": "code",
   "execution_count": null,
   "id": "bdf9e008",
   "metadata": {},
   "outputs": [],
   "source": [
    "    with open(output_file, 'w', encoding='utf-8') as file:\n",
    "        for line in split_lines_list:\n",
    "            file.write(json.dumps(line, ensure_ascii=False) + '\\n')\n",
    "\n",
    "input_file = \"D:/CESR/stage/good_export/final/concat-out.json\"\n",
    "output_file = \"D:/CESR/stage/good_export/final/split-out-try.json\"\n",
    "\n",
    "split_lines(input_file, output_file, lines_dict)\n"
   ]
  }
 ],
 "metadata": {
  "kernelspec": {
   "display_name": "Python 3",
   "language": "python",
   "name": "python3"
  },
  "language_info": {
   "codemirror_mode": {
    "name": "ipython",
    "version": 3
   },
   "file_extension": ".py",
   "mimetype": "text/x-python",
   "name": "python",
   "nbconvert_exporter": "python",
   "pygments_lexer": "ipython3",
   "version": "3.8.8"
  }
 },
 "nbformat": 4,
 "nbformat_minor": 5
}
