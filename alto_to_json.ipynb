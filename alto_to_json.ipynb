{
 "cells": [
  {
   "cell_type": "markdown",
   "id": "5aabdbbd",
   "metadata": {},
   "source": [
    "### Importing Required Libraries"
   ]
  },
  {
   "cell_type": "code",
   "execution_count": 1,
   "id": "d715557a",
   "metadata": {},
   "outputs": [],
   "source": [
    "import json # To work with JSON data\n",
    "import jsonlines # To write data in JSON Lines format\n",
    "import os # To interact with the operating system\n",
    "import glob # To search for files in a directory\n",
    "from xml.etree import ElementTree # To parse XML files"
   ]
  },
  {
   "cell_type": "markdown",
   "id": "0c5f3153",
   "metadata": {},
   "source": [
    "### Define Output and Input File Paths"
   ]
  },
  {
   "cell_type": "code",
   "execution_count": 2,
   "id": "763b7684",
   "metadata": {},
   "outputs": [],
   "source": [
    "output_file = \"path/output.json\" # path for the output JSON file\n",
    "text_file = \"path/text.txt\" # path to the input text file"
   ]
  },
  {
   "cell_type": "markdown",
   "id": "b417a592",
   "metadata": {},
   "source": [
    "### Initializing Output Data and ID Counters"
   ]
  },
  {
   "cell_type": "code",
   "execution_count": 3,
   "id": "702377a6",
   "metadata": {},
   "outputs": [],
   "source": [
    "# Initialize the data to be stored in the output file\n",
    "output_data = []\n",
    "# starting values for alto_id and text_id\n",
    "#text_id = 1\n",
    "alto_id = 1\n",
    "text_id = alto_id \n",
    "# In case the ids kept from the alto file are not usefull "
   ]
  },
  {
   "cell_type": "markdown",
   "id": "5fce0117",
   "metadata": {},
   "source": [
    "### Reading input text File as a Single String"
   ]
  },
  {
   "cell_type": "code",
   "execution_count": 4,
   "id": "1449f3d6",
   "metadata": {},
   "outputs": [],
   "source": [
    "# Get the name of the text file (without extension)\n",
    "text_file_name = os.path.splitext(os.path.basename(text_file))[0]\n",
    "\n",
    "# Read the whole text file as a single string\n",
    "with open(text_file, 'r', encoding=\"utf-8\") as f:\n",
    "    texte = f.read()"
   ]
  },
  {
   "cell_type": "markdown",
   "id": "9a55ffaf",
   "metadata": {},
   "source": [
    "### Loop through XML files to extract TextLine elements' text and ID"
   ]
  },
  {
   "cell_type": "code",
   "execution_count": 5,
   "id": "c57fbea5",
   "metadata": {},
   "outputs": [
    {
     "name": "stdout",
     "output_type": "stream",
     "text": [
      "Added to output: eSc_line_dd7ab4a6, zum, بسم الله الرحمان الرحيم\n",
      "Added to output: eSc_line_3e6325a7, zum, تنزيل الكتاب من الله العزيز الحكيم\n",
      "Added to output: eSc_line_de603fc8, zum, \n",
      "Added to output: eSc_line_0edf6b7b, zum, إنا أنزلنا إليك الكتاب بالحق فاعبد الله مخلصا له الدين\n",
      "Added to output: eSc_line_a5ea6cb6, zum, ألا لله الدين الخالص\n",
      "Added to output: eSc_line_f2ecf63f, zum, الدين الخالص ۚ والذين اتخذوا\n",
      "Added to output: eSc_line_d39926db, zum, من دونه أولياء ما نعبدهم\n",
      "Added to output: eSc_line_4f66c77d, zum, ليقربونا إلى الله زلفى إن الله\n",
      "Added to output: eSc_line_1d5e8403, zum, يحكم بينهم في ما هم فيه يختلفون\n",
      "Added to output: eSc_line_d766525f, zum, إن الله لا يهدي من هو كاذب\n",
      "Added to output: eSc_line_f0409d60, zum, أولو الألباب أفمن حق عليه\n",
      "Added to output: eSc_line_94851ed3, zum, لمة العذاب أفأنت تنقذ م\n",
      "Added to output: eSc_line_9bdf4374, zum, \n",
      "Added to output: eSc_line_a21d7271, zum, النار لكن الذين اتقوا\n",
      "Added to output: eSc_line_122223c1, zum, ربهم لهم غرف من\n",
      "Added to output: eSc_line_117a0d49, zum, قها غرف\n",
      "Added to output: eSc_line_badc8f01, zum, مبنية تجري من تحتها الأنهار\n",
      "Added to output: eSc_line_a1cd21a7, zum, وعد الله لا يخلف الله الميعاد\n",
      "Added to output: eSc_line_38898c79, zum, ألم تر أن الله أنزل من السماء ما\n",
      "Added to output: eSc_line_39a81910, zum, فسلكه ينابيع في الأرض\n",
      "Added to output: eSc_line_1a5b6d51, zum, ثم يخرج به زرعا مختلفا ألوانه\n",
      "Added to output: eSc_line_76284051, zum, كفار لو أراد الله أن يتخذ\n",
      "Added to output: eSc_line_42f57213, zum, ولدا لاصطفى مما يخلق\n",
      "Added to output: eSc_line_70af20f6, zum, يشاء ۚ سبحانه ۖ هو الله الواحد\n",
      "Added to output: eSc_line_a998039a, zum, خلق السماوات والأرض\n",
      "Added to output: eSc_line_36105a34, zum, يكور الليل على النهار\n",
      "Added to output: eSc_line_0bdab9ce, zum, ويكور النهار على الليل و\n",
      "Added to output: eSc_line_de1ebb84, zum, \n",
      "Added to output: eSc_line_a2e7c9e6, zum, الشمس والقمر ۖ كل يجري لأجل\n",
      "Added to output: eSc_line_3780d32d, zum, مسمى ألا هو العزيز الغفار\n",
      "Added to output: eSc_line_7b27f378, zum, خلقكم من نفس واحدة ثم\n",
      "Added to output: eSc_line_38735c96, zum, جعل منها زوجها وأنزل\n",
      "Added to output: eSc_line_36c09ef1, zum, من الأنعام ثمانية أزواج ۚ يخلقكم\n",
      "Added to output: eSc_line_4bb1be5e, zum, في بطون أمهاتكم خلقا\n",
      "Added to output: eSc_line_91c2abeb, zum, من بعد خلق في ظلمات ثلاث\n",
      "Added to output: eSc_line_7da4eb32, zum, ذلكم الله ربكم\n",
      "Added to output: eSc_line_52d26ea7, zum, الملك\n",
      "Added to output: eSc_line_0e531240, zum, لا إله إلا هو فأنى تصرفون\n",
      "Added to output: eSc_line_0d8b7e17, zum, إن تكفروا فإن الله غني عنكم\n",
      "Added to output: eSc_line_31174433, zum, ولا يرضى لعباده الكفر\n",
      "Added to output: eSc_line_87ce080d, zum, وإن تشكروا يرضه لكم ولا\n",
      "Added to output: eSc_line_ea875878, zum, تزر وازرة وزر أخرى ثم إلى ربكم\n",
      "Added to output: eSc_line_046ec7e1, zum, مرجعكم فينبئكم بما\n",
      "Added to output: eSc_line_5fede87f, zum, كنتم تعملون ۚ إنه عليم بذات\n",
      "Added to output: eSc_line_8edd61d2, zum, الصدور وإذا مس الإنسان\n",
      "Added to output: eSc_line_d96a7a0d, zum, ضر دعا ربه منيبا إليه ثم\n",
      "Added to output: eSc_line_06b615bf, zum, خوله نعمة منه نسي ما كان\n",
      "Added to output: eSc_line_cf397366, zum, يدعو إليه من قبل وجعل لله\n",
      "Added to output: eSc_line_9154de77, zum, أندادا ليضل عن سبيله قل\n",
      "Added to output: eSc_line_8123b5ba, zum, تمتع بكفرك قليلا ۖ إنك م\n",
      "Added to output: eSc_line_7a7ca71f, zum, أصحاب النار أمن هو قانت ا\n",
      "Added to output: eSc_line_3dc804c0, zum, ساجدا وقائما يحذر الآخرة\n",
      "Added to output: eSc_line_70baf64f, zum, ويرجو رحمة ربه قل هل يستوي\n",
      "Added to output: eSc_line_ea7c964e, zum, الذين يعلمون والذين لا يعلم\n",
      "Added to output: eSc_line_a2c407ad, zum, ا\n",
      "Added to output: eSc_line_fd3aa3bd, zum, نما يتذكر أولو الألبا\n",
      "Added to output: eSc_line_4a0a0b0d, zum, قل يا عباد الذين آمنوا اتقوا\n",
      "Added to output: eSc_line_2fc31a16, zum, ربكم للذين أحسنوا في هذه\n",
      "Added to output: eSc_line_796dbc2b, zum, الدنيا حسنة وأرض الله\n",
      "Added to output: eSc_line_1d872aa6, zum, واسعة إنما يوفى الصابرون\n",
      "Added to output: eSc_line_1d774ffa, zum, تزر وازرة وزر أخرى ثم إلى رب\n",
      "Added to output: eSc_line_4993cb1f, zum, رجعكم فينبئكم بما\n",
      "Added to output: eSc_line_6d85a9a3, zum, كنتم تعملون إنه عليم بذات\n",
      "Added to output: eSc_line_66f759b7, zum, الصدور وإذا مس الإنسان\n",
      "Added to output: eSc_line_91e63d9c, zum, ضر دعا ربه منيبا إليه ثم إذا\n",
      "Added to output: eSc_line_6e463a21, zum, خوله نعمة منه نسي ما كان\n",
      "Added to output: eSc_line_1cbc44a2, zum, يدعو إليه من قبل وجعل لله\n",
      "Added to output: eSc_line_8fbde5fe, zum, أندادا ليضل عن سبيله ق\n",
      "Added to output: eSc_line_c1c91e10, zum, تمتع بكفرك قليلا إنك م\n",
      "Added to output: eSc_line_c503558e, zum, أصحاب النار أمن هو قانت آن\n",
      "Added to output: eSc_line_dec1b1e4, zum, ساجدا وقائما يحذر الآخرة\n",
      "Added to output: eSc_line_bf14fbe5, zum, ويرجو رحمة ربه قل هل يستوي\n",
      "Added to output: eSc_line_5050c771, zum, الذين يعلمون والذين لا يعلم\n",
      "Added to output: eSc_line_4c7b10b9, zum, ا\n",
      "Added to output: eSc_line_074c813d, zum, نما يتذكر أولو الألب\n",
      "Added to output: eSc_line_e61934c2, zum, قل يا عباد الذين آمنوا اتقوا\n",
      "Added to output: eSc_line_8d15f397, zum, بكم ۚ للذين أحسنوا في هذه\n",
      "Added to output: eSc_line_971e5722, zum, الدنيا حسنة وأرض الله\n",
      "Added to output: eSc_line_32bb0060, zum, واسعة إنما يوفى الصابرون\n",
      "Added to output: eSc_line_8d47442c, zum, أجرهم بغير حساب  قل\n",
      "Added to output: eSc_line_2e42664b, zum, أمرت أن أعبد الله مخلصا له\n",
      "Added to output: eSc_line_4b945211, zum, الدين وأمرت لأن أكون\n",
      "Added to output: eSc_line_2a09a7b0, zum, المسلمين  قل إني أخاف إ\n",
      "Added to output: eSc_line_c45e9b09, zum, عصيت ربي عذاب يوم\n",
      "Added to output: eSc_line_a91f5aa2, zum, قل الله أعبد مخلصا\n",
      "Added to output: eSc_line_6c340457, zum, له ديني فاعبدوا ما شئتم م\n",
      "Added to output: eSc_line_3dd7ab12, zum, قل إن الخاسرين الذي\n",
      "Added to output: eSc_line_009e36e0, zum, خسروا أنفسهم وأهليهم يوم\n",
      "Added to output: eSc_line_4fab9803, zum, القيامة ألا ذلك هو الخسران المبين\n",
      "Added to output: eSc_line_8751d656, zum, لهم من فوقهم ظلل من النار ومن\n",
      "Added to output: eSc_line_fa815aa3, zum, \n",
      "Added to output: eSc_line_a2da62ff, zum, ظلل ذلك يخوف الله به\n",
      "Added to output: eSc_line_36d48802, zum, ع\n",
      "Added to output: eSc_line_9402c010, zum, باد فاتقون\n",
      "Added to output: eSc_line_2f68120c, zum, ذين اجتنبوا الطاغوت\n",
      "Added to output: eSc_line_cec047fb, zum, أن يعبدوها وأنابوا إلى الله لهم\n",
      "Added to output: eSc_line_039ea81c, zum, البشرى فبشر عباد الذين يستمعون\n",
      "Added to output: eSc_line_c0cb088a, zum, القول فيتبعون أحسنه أولئك\n",
      "Added to output: eSc_line_a6f1904d, zum, الذين هداهم الله وأولئك هم\n",
      "Added to output: eSc_line_e59bfeb5, zum, \n"
     ]
    }
   ],
   "source": [
    "# Loop through all the XML files in the directory\n",
    "for filename in glob.glob(\"path/files.xml\"):\n",
    "    # Get the series name from the filename (without extension)\n",
    "    series_name = os.path.splitext(os.path.basename(filename))[0][:3] \n",
    "    \n",
    "    # Only takes the three first char of the file name to keep all the line in the same series\n",
    "    \n",
    "    # Parse the XML file\n",
    "    tree = ElementTree.parse(filename)\n",
    "    root = tree.getroot()\n",
    "    \n",
    "    # Loop through all the TextLine elements in the XML file\n",
    "    for text_line in root.iter(\"{http://www.loc.gov/standards/alto/ns-v4#}TextLine\"):\n",
    "        # Get the ID from the ID attribute of the TextLine element\n",
    "        output_id = text_line.get(\"ID\")\n",
    "        # Get the text content from the Unicode element within the TextLine element\n",
    "        text = text_line.find(\"{http://www.loc.gov/standards/alto/ns-v4#}String\").get(\"CONTENT\").strip()\n",
    "        # Add the data to the output list\n",
    "        output_data.append({\"id\": output_id, \"series\": series_name, \"text\": text})\n",
    "        alto_id += 1\n",
    "        print(f\"Added to output: {output_id}, {series_name}, {text}\")"
   ]
  },
  {
   "cell_type": "markdown",
   "id": "3d993e3e",
   "metadata": {},
   "source": [
    "### Looping through text file to create a line by line JSON output"
   ]
  },
  {
   "cell_type": "code",
   "execution_count": 6,
   "id": "6020f10c",
   "metadata": {
    "scrolled": true
   },
   "outputs": [],
   "source": [
    "# # Loop through the lines of the text file and add them to the output list\n",
    "# for line in text_lines:\n",
    "#     # Strip any trailing whitespace from the line\n",
    "#     line = line.strip()\n",
    "#     # Add the data to the output list, using an auto-incremented ID and the text file name as the series name\n",
    "#     output_data.append({\"id\": str(text_id), \"series\": text_file_name, \"text\": line})\n",
    "#     text_id += 1\n",
    "#     print(f\"Added to output: {text_id}, {text_file_name}, {line}\")\n"
   ]
  },
  {
   "cell_type": "markdown",
   "id": "8ce1b4d8",
   "metadata": {},
   "source": [
    "### Adding Whole Text File as a Single Line to Output List"
   ]
  },
  {
   "cell_type": "code",
   "execution_count": 7,
   "id": "d6275cd6",
   "metadata": {
    "scrolled": true
   },
   "outputs": [
    {
     "name": "stdout",
     "output_type": "stream",
     "text": [
      "Added to output: 2, zumur, تنزيل الكتاب من الله العزيز الحكيم\n",
      "إنا أنزلنا إليك الكتاب بالحق فاعبد الله مخلصا له الدين\n",
      "ألا لله الدين الخالص ۚ والذين اتخذوا من دونه أولياء ما نعبدهم إلا ليقربونا إلى الله زلفى إن الله يحكم بينهم في ما هم فيه يختلفون ۗ إن الله لا يهدي من هو كاذب كفار\n",
      "لو أراد الله أن يتخذ ولدا لاصطفى مما يخلق ما يشاء ۚ سبحانه ۖ هو الله الواحد القهار\n",
      "خلق السماوات والأرض بالحق ۖ يكور الليل على النهار ويكور النهار على الليل ۖ وسخر الشمس والقمر ۖ كل يجري لأجل مسمى ۗ ألا هو العزيز الغفار\n",
      "خلقكم من نفس واحدة ثم جعل منها زوجها وأنزل لكم من الأنعام ثمانية أزواج ۚ يخلقكم في بطون أمهاتكم خلقا من بعد خلق في ظلمات ثلاث ۚ ذلكم الله ربكم له الملك ۖ لا إله إلا هو ۖ فأنى تصرفون\n",
      "إن تكفروا فإن الله غني عنكم ۖ ولا يرضى لعباده الكفر ۖ وإن تشكروا يرضه لكم ۗ ولا تزر وازرة وزر أخرى ۗ ثم إلى ربكم مرجعكم فينبئكم بما كنتم تعملون ۚ إنه عليم بذات الصدور\n",
      "وإذا مس الإنسان ضر دعا ربه منيبا إليه ثم إذا خوله نعمة منه نسي ما كان يدعو إليه من قبل وجعل لله أندادا ليضل عن سبيله ۚ قل تمتع بكفرك قليلا ۖ إنك من أصحاب النار\n",
      "أمن هو قانت آناء الليل ساجدا وقائما يحذر الآخرة ويرجو رحمة ربه ۗ قل هل يستوي الذين يعلمون والذين لا يعلمون ۗ إنما يتذكر أولو الألباب\n",
      "قل يا عباد الذين آمنوا اتقوا ربكم ۚ للذين أحسنوا في هذه الدنيا حسنة ۗ وأرض الله واسعة ۗ إنما يوفى الصابرون أجرهم بغير حساب\n",
      "قل إني أمرت أن أعبد الله مخلصا له الدين\n",
      "وأمرت لأن أكون أول المسلمين\n",
      "قل إني أخاف إن عصيت ربي عذاب يوم عظيم\n",
      "قل الله أعبد مخلصا له ديني\n",
      "فاعبدوا ما شئتم من دونه ۗ قل إن الخاسرين الذين خسروا أنفسهم وأهليهم يوم القيامة ۗ ألا ذلك هو الخسران المبين\n",
      "لهم من فوقهم ظلل من النار ومن تحتهم ظلل ۚ ذلك يخوف الله به عباده ۚ يا عباد فاتقون\n",
      "والذين اجتنبوا الطاغوت أن يعبدوها وأنابوا إلى الله لهم البشرى ۚ فبشر عباد\n",
      "الذين يستمعون القول فيتبعون أحسنه ۚ أولئك الذين هداهم الله ۖ وأولئك هم أولو الألباب\n",
      "أفمن حق عليه كلمة العذاب أفأنت تنقذ من في النار\n",
      "لكن الذين اتقوا ربهم لهم غرف من فوقها غرف مبنية تجري من تحتها الأنهار ۖ وعد الله ۖ لا يخلف الله الميعاد\n",
      "ألم تر أن الله أنزل من السماء ماء فسلكه ينابيع في الأرض ثم يخرج به زرعا مختلفا ألوانه ثم يهيج فتراه مصفرا ثم يجعله حطاما ۚ إن في ذلك لذكرى لأولي الألباب\n",
      "أفمن شرح الله صدره للإسلام فهو على نور من ربه ۚ فويل للقاسية قلوبهم من ذكر الله ۚ أولئك في ضلال مبين\n",
      "الله نزل أحسن الحديث كتابا متشابها مثاني تقشعر منه جلود الذين يخشون ربهم ثم تلين جلودهم وقلوبهم إلى ذكر الله ۚ ذلك هدى الله يهدي به من يشاء ۚ ومن يضلل الله فما له من هاد\n",
      "أفمن يتقي بوجهه سوء العذاب يوم القيامة ۚ وقيل للظالمين ذوقوا ما كنتم تكسبون\n",
      "كذب الذين من قبلهم فأتاهم العذاب من حيث لا يشعرون\n",
      "فأذاقهم الله الخزي في الحياة الدنيا ۖ ولعذاب الآخرة أكبر ۚ لو كانوا يعلمون\n",
      "ولقد ضربنا للناس في هذا القرآن من كل مثل لعلهم يتذكرون\n",
      "قرآنا عربيا غير ذي عوج لعلهم يتقون\n",
      "ضرب الله مثلا رجلا فيه شركاء متشاكسون ورجلا سلما لرجل هل يستويان مثلا ۚ الحمد لله ۚ بل أكثرهم لا يعلمون\n",
      "إنك ميت وإنهم ميتون\n",
      "ثم إنكم يوم القيامة عند ربكم تختصمون\n",
      "فمن أظلم ممن كذب على الله وكذب بالصدق إذ جاءه ۚ أليس في جهنم مثوى للكافرين\n",
      "والذي جاء بالصدق وصدق به ۙ أولئك هم المتقون\n",
      "لهم ما يشاءون عند ربهم ۚ ذلك جزاء المحسنين\n",
      "ليكفر الله عنهم أسوأ الذي عملوا ويجزيهم أجرهم بأحسن الذي كانوا يعملون\n",
      "أليس الله بكاف عبده ۖ ويخوفونك بالذين من دونه ۚ ومن يضلل الله فما له من هاد\n",
      "ومن يهد الله فما له من مضل ۗ أليس الله بعزيز ذي انتقام\n",
      "ولئن سألتهم من خلق السماوات والأرض ليقولن الله ۚ قل أفرأيتم ما تدعون من دون الله إن أرادني الله بضر هل هن كاشفات ضره أو أرادني برحمة هل هن ممسكات رحمته ۚ قل حسبي الله ۖ عليه يتوكل المتوكلون\n",
      "قل يا قوم اعملوا على مكانتكم إني عامل ۖ فسوف تعلمون\n",
      "من يأتيه عذاب يخزيه ويحل عليه عذاب مقيم\n",
      "إنا أنزلنا عليك الكتاب للناس بالحق ۖ فمن اهتدى فلنفسه ۖ ومن ضل فإنما يضل عليها ۖ وما أنت عليهم بوكيل\n",
      "الله يتوفى الأنفس حين موتها والتي لم تمت في منامها ۖ فيمسك التي قضى عليها الموت ويرسل الأخرى إلى أجل مسمى ۚ إن في ذلك لآيات لقوم يتفكرون\n",
      "أم اتخذوا من دون الله شفعاء ۚ قل أولو كانوا لا يملكون شيئا ولا يعقلون\n",
      "قل لله الشفاعة جميعا ۖ له ملك السماوات والأرض ۖ ثم إليه ترجعون\n",
      "وإذا ذكر الله وحده اشمأزت قلوب الذين لا يؤمنون بالآخرة ۖ وإذا ذكر الذين من دونه إذا هم يستبشرون\n",
      "قل اللهم فاطر السماوات والأرض عالم الغيب والشهادة أنت تحكم بين عبادك في ما كانوا فيه يختلفون\n",
      "ولو أن للذين ظلموا ما في الأرض جميعا ومثله معه لافتدوا به من سوء العذاب يوم القيامة ۚ وبدا لهم من الله ما لم يكونوا يحتسبون\n",
      "وبدا لهم سيئات ما كسبوا وحاق بهم ما كانوا به يستهزئون\n",
      "فإذا مس الإنسان ضر دعانا ثم إذا خولناه نعمة منا قال إنما أوتيته على علم ۚ بل هي فتنة ولكن أكثرهم لا يعلمون\n",
      "قد قالها الذين من قبلهم فما أغنى عنهم ما كانوا يكسبون\n",
      "فأصابهم سيئات ما كسبوا ۚ والذين ظلموا من هؤلاء سيصيبهم سيئات ما كسبوا وما هم بمعجزين\n",
      "أولم يعلموا أن الله يبسط الرزق لمن يشاء ويقدر ۚ إن في ذلك لآيات لقوم يؤمنون\n",
      "قل يا عبادي الذين أسرفوا على أنفسهم لا تقنطوا من رحمة الله ۚ إن الله يغفر الذنوب جميعا ۚ إنه هو الغفور الرحيم\n",
      "وأنيبوا إلى ربكم وأسلموا له من قبل أن يأتيكم العذاب ثم لا تنصرون\n",
      "واتبعوا أحسن ما أنزل إليكم من ربكم من قبل أن يأتيكم العذاب بغتة وأنتم لا تشعرون\n",
      "أن تقول نفس يا حسرتا على ما فرطت في جنب الله وإن كنت لمن الساخرين\n",
      "أو تقول لو أن الله هداني لكنت من المتقين\n",
      "أو تقول حين ترى العذاب لو أن لي كرة فأكون من المحسنين\n",
      "بلى قد جاءتك آياتي فكذبت بها واستكبرت وكنت من الكافرين\n",
      "ويوم القيامة ترى الذين كذبوا على الله وجوههم مسودة ۚ أليس في جهنم مثوى للمتكبرين\n",
      "وينجي الله الذين اتقوا بمفازتهم لا يمسهم السوء ولا هم يحزنون\n",
      "الله خالق كل شيء ۖ وهو على كل شيء وكيل\n",
      "له مقاليد السماوات والأرض ۗ والذين كفروا بآيات الله أولئك هم الخاسرون\n",
      "قل أفغير الله تأمروني أعبد أيها الجاهلون\n",
      "ولقد أوحي إليك وإلى الذين من قبلك لئن أشركت ليحبطن عملك ولتكونن من الخاسرين\n",
      "بل الله فاعبد وكن من الشاكرين\n",
      "وما قدروا الله حق قدره والأرض جميعا قبضته يوم القيامة والسماوات مطويات بيمينه ۚ سبحانه وتعالى عما يشركون\n",
      "ونفخ في الصور فصعق من في السماوات ومن في الأرض إلا من شاء الله ۖ ثم نفخ فيه أخرى فإذا هم قيام ينظرون\n",
      "وأشرقت الأرض بنور ربها ووضع الكتاب وجيء بالنبيين والشهداء وقضي بينهم بالحق وهم لا يظلمون\n",
      "ووفيت كل نفس ما عملت وهو أعلم بما يفعلون\n",
      "وسيق الذين كفروا إلى جهنم زمرا ۖ حتى إذا جاءوها فتحت أبوابها وقال لهم خزنتها ألم يأتكم رسل منكم يتلون عليكم آيات ربكم وينذرونكم لقاء يومكم هذا ۚ قالوا بلى ولكن حقت كلمة العذاب على الكافرين\n",
      "قيل ادخلوا أبواب جهنم خالدين فيها ۖ فبئس مثوى المتكبرين\n",
      "وسيق الذين اتقوا ربهم إلى الجنة زمرا ۖ حتى إذا جاءوها وفتحت أبوابها وقال لهم خزنتها سلام عليكم طبتم فادخلوها خالدين\n",
      "وقالوا الحمد لله الذي صدقنا وعده وأورثنا الأرض نتبوأ من الجنة حيث نشاء ۖ فنعم أجر العاملين\n",
      " وترى الملائكة حافين من حول العرش يسبحون بحمد ربهم ۖ وقضي بينهم بالحق وقيل الحمد لله رب العالمين\n"
     ]
    }
   ],
   "source": [
    "# Add the whole text file as a single line to the output list\n",
    "output_data.append({\"id\": str(text_id), \"series\": text_file_name, \"text\": texte.strip()})\n",
    "text_id += 1\n",
    "\n",
    "print(f\"Added to output: {text_id}, {text_file_name}, {texte}\")"
   ]
  },
  {
   "cell_type": "markdown",
   "id": "6fc710f8",
   "metadata": {},
   "source": [
    "### Writing Data to JSONLines File in Compact Format without ASCII Encoding"
   ]
  },
  {
   "cell_type": "code",
   "execution_count": 8,
   "id": "1438a1aa",
   "metadata": {},
   "outputs": [],
   "source": [
    "# Open the output file in write mode\n",
    "with open(output_file, \"w\", encoding=\"utf-8\") as f:\n",
    "    # Create a jsonlines writer object that writes to the output file\n",
    "    writer = jsonlines.Writer(f)\n",
    "    # Loop through each item in the output_data list\n",
    "    for item in output_data:\n",
    "        # Write the current item to the output file using the jsonlines writer\n",
    "        writer.write(item)"
   ]
  },
  {
   "cell_type": "code",
   "execution_count": null,
   "id": "09bdf0ee",
   "metadata": {},
   "outputs": [],
   "source": []
  }
 ],
 "metadata": {
  "kernelspec": {
   "display_name": "Python 3",
   "language": "python",
   "name": "python3"
  },
  "language_info": {
   "codemirror_mode": {
    "name": "ipython",
    "version": 3
   },
   "file_extension": ".py",
   "mimetype": "text/x-python",
   "name": "python",
   "nbconvert_exporter": "python",
   "pygments_lexer": "ipython3",
   "version": "3.8.8"
  }
 },
 "nbformat": 4,
 "nbformat_minor": 5
}
