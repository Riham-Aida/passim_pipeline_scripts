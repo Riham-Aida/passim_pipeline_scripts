{
 "cells": [
  {
   "cell_type": "markdown",
   "id": "f7f2b6c9",
   "metadata": {},
   "source": [
    "### Importing Required Libraries"
   ]
  },
  {
   "cell_type": "code",
   "execution_count": 4,
   "id": "6046d371",
   "metadata": {},
   "outputs": [],
   "source": [
    "import os\n",
    "import json\n",
    "from bs4 import BeautifulSoup"
   ]
  },
  {
   "cell_type": "markdown",
   "id": "ccd735ee",
   "metadata": {},
   "source": [
    "### Loading JSON data into a list of dictionaries from a JSONLines file"
   ]
  },
  {
   "cell_type": "code",
   "execution_count": 5,
   "id": "756d6c7b",
   "metadata": {},
   "outputs": [],
   "source": [
    "# Open the jsonlines file and load its content into the data variable\n",
    "# Read the JSON file and store its content as a list of dictionaries\n",
    "with open('path/json_input.json', encoding=\"utf-8\") as json_file:\n",
    "    data = [json.loads(line) for line in json_file]"
   ]
  },
  {
   "cell_type": "markdown",
   "id": "2c22c763",
   "metadata": {},
   "source": [
    "### Parsing XML files and updating text content from JSON data, then saving the modified XML files to a different directory"
   ]
  },
  {
   "cell_type": "code",
   "execution_count": 6,
   "id": "ee3c95bf",
   "metadata": {},
   "outputs": [],
   "source": [
    "# Loop through all the xml files in the folder\n",
    "for filename in os.listdir('path'):\n",
    "# Traverse through all the XML files in the specified directory\n",
    "    if filename.endswith('.xml'):\n",
    "        # Open the xml file and load its content into the xml variable\n",
    "        with open(os.path.join('path', filename), encoding=\"utf-8\") as xml_file:\n",
    "            # Read the XML file and store its content as a string\n",
    "            xml = xml_file.read()\n",
    "\n",
    "\n",
    "        # Parse the XML string using BeautifulSoup and store it as a BeautifulSoup object\n",
    "        soup = BeautifulSoup(xml, 'xml')\n",
    "\n",
    "        # Loop through each TextLine element in the xml and each item in the data\n",
    "        # Traverse through all the TextLine elements in the parsed XML\n",
    "        for text_line in soup.find_all('TextLine'):\n",
    "            for item in data:\n",
    "                # Check if the id attribute of the TextLine element matches the id2 field of the item in the data\n",
    "                # Compare the 'ID' attribute of the TextLine element with the 'id2' field of each dictionary in the JSON data\n",
    "                if text_line['ID'] == item['id2']:\n",
    "                    # Find all the String elements within the TextLine element\n",
    "                    # Get all the String elements within the current TextLine element\n",
    "                    string_elements = text_line.find_all('String')\n",
    "                    if string_elements:\n",
    "                        # Set the CONTENT attribute of the first String element to the text field of the item in the data\n",
    "                        # Assign the value of 'text' field of the matched dictionary to the 'CONTENT' attribute of the first String element\n",
    "                        string_elements[0]['CONTENT'] = item['text']\n",
    "                    # Break out of the inner loop because we found a match\n",
    "                    # Exit the loop over the JSON data once a matching ID is found in the TextLine element\n",
    "                    break\n",
    "\n",
    "        # Write the modified XML string to a new file with the same name as the original file in a different directory\n",
    "        with open(os.path.join('path/output', filename), 'w', encoding=\"utf-8\") as output_file:\n",
    "            output_file.write(str(soup))\n"
   ]
  },
  {
   "cell_type": "code",
   "execution_count": null,
   "id": "508542a7",
   "metadata": {},
   "outputs": [],
   "source": []
  }
 ],
 "metadata": {
  "kernelspec": {
   "display_name": "Python 3",
   "language": "python",
   "name": "python3"
  },
  "language_info": {
   "codemirror_mode": {
    "name": "ipython",
    "version": 3
   },
   "file_extension": ".py",
   "mimetype": "text/x-python",
   "name": "python",
   "nbconvert_exporter": "python",
   "pygments_lexer": "ipython3",
   "version": "3.8.8"
  }
 },
 "nbformat": 4,
 "nbformat_minor": 5
}
